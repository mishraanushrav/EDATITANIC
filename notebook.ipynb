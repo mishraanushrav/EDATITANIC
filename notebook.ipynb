{
  "cells": [
    {
      "metadata": {
        "_cell_guid": "2185c217-2ff2-48ca-a0c1-656c0175e9d0",
        "_uuid": "fd14d020aaf6d567423b6125c1b63c7481dab269"
      },
      "cell_type": "markdown",
      "source": "#  Exploratory Data Analysis on the Titanic Dataset\n\n\nThis is my first kernal and the objective of this kernal is to conduct exploratory data analysis (EDA) and statistical modeling on the **Titanic Dataset** in order to gather insights and evenutally predicting survior(0 = Not Survived, 1 = Survived). Out of the 891 passengers that went on board the titanic, approximately 38% of them got surived where as majority 62% did not survive the disaster.\n\nI have outlined below the process i followed in conducting the aforementioned procedure\n\n> 1. Import the relevant python libraies for the analysis\n> 2. Load the train and test dataset and set the index if applicable\n> 3. Visually inspect the head of the dataset,Examine the train dataset to understand in particular if the data is tidy, shape of the dataset,examine datatypes, examine missing values, unique counts and build a data dictictionary dataframe\n> 4.  Run discriptive statistics of object and numerical datatypes,  and finally transform datatypes accordingly\n> 5. Carry-out univariate,bivariate and multivariate analysis using graphical and non graphical(some numbers represting the data) mediums\n> 6. Feature Engineering : Extract title from name, Extract new features from name, age, fare, sibsp, parch and cabin\n> 7. Preprocessing and Prepare data for statistical modeling\n> 7. Statistical Modelling"
    },
    {
      "metadata": {
        "_cell_guid": "6f2b366e-63d9-4609-9e97-8723c8cdf823",
        "_uuid": "11736f3d781d96b0dd5bdc52fc6d54c9355621c6"
      },
      "cell_type": "markdown",
      "source": "## 1. Import the relevant python libraries for the analysis"
    },
    {
      "metadata": {
        "_cell_guid": "3192aa52-73c9-4ba2-bf77-7b11d0c4942c",
        "_execution_state": "idle",
        "collapsed": true,
        "_uuid": "732a7a96321e04bab784ef964390af678a41af0f",
        "trusted": false
      },
      "cell_type": "code",
      "source": "import pandas as pd\nimport numpy as np\nimport matplotlib.pyplot as plt\nimport seaborn as sns\nfrom IPython.display import Image, display\n%matplotlib inline",
      "execution_count": null,
      "outputs": []
    },
    {
      "metadata": {
        "_cell_guid": "0d37e532-f622-4dc1-afe7-16c69a30bb02",
        "_uuid": "05e481c7547fcb29073aaee5af67a6d67980c6b4"
      },
      "cell_type": "markdown",
      "source": "## 2. Load the train and test dataset and set the index if applicable"
    },
    {
      "metadata": {
        "_cell_guid": "7398701e-47df-4930-a5c5-f44098142f0e",
        "_execution_state": "idle",
        "collapsed": true,
        "_uuid": "fbf9ab8012efc9e3f4232c06a5f2f3edd686041e",
        "trusted": false
      },
      "cell_type": "code",
      "source": "#load the train dataset\ntrain = pd.read_csv('../input/train.csv')",
      "execution_count": null,
      "outputs": []
    },
    {
      "metadata": {
        "_cell_guid": "c546f8bd-089e-4bba-b0be-08bce0a8091e",
        "scrolled": true,
        "_execution_state": "idle",
        "_uuid": "29b728249b573e5650d187b0a40f53cccb84ad30",
        "trusted": false,
        "collapsed": true
      },
      "cell_type": "code",
      "source": "#inspect the first few rows of the train dataset\ndisplay(train.head())",
      "execution_count": null,
      "outputs": []
    },
    {
      "metadata": {
        "_cell_guid": "b39ae760-414e-4270-8345-29b3b0b18055",
        "_execution_state": "idle",
        "collapsed": true,
        "_uuid": "1f89fba6007241e22141c3bcfb0a2ccdb40e6054",
        "trusted": false
      },
      "cell_type": "code",
      "source": "# set the index to passengerId\ntrain = train.set_index('PassengerId')",
      "execution_count": null,
      "outputs": []
    },
    {
      "metadata": {
        "_cell_guid": "62b9abd2-1d15-4f55-bbb8-3df3a6a50688",
        "_execution_state": "idle",
        "collapsed": true,
        "_uuid": "f2fe99d4e5b9d261ce2aaee32eddc92fa2b475ea",
        "trusted": false
      },
      "cell_type": "code",
      "source": "#load the test dataset\ntest = pd.read_csv('../input/test.csv')",
      "execution_count": null,
      "outputs": []
    },
    {
      "metadata": {
        "_cell_guid": "afbb1142-fbd9-4395-8517-2b59d1fbddc3",
        "_execution_state": "idle",
        "_uuid": "9fb7a80eeaf941cc46c6284d33bd8f4e5bd0bb8f",
        "trusted": false,
        "collapsed": true
      },
      "cell_type": "code",
      "source": "#inspect the first few rows of the test dataset\ndisplay(test.head())",
      "execution_count": null,
      "outputs": []
    },
    {
      "metadata": {
        "_cell_guid": "a1bc8f81-7444-4376-b886-31a6f8630f0d",
        "_uuid": "24b63c654c491dfe41af2d05d677c02df6fbf290"
      },
      "cell_type": "markdown",
      "source": "## 3. Visually inspect the head of the dataset,Examine the train dataset to understand in particular if the data is tidy, shape of the dataset,examine datatypes, examine missing values, unique counts and build a data dictionary dataframe"
    },
    {
      "metadata": {
        "_cell_guid": "4c2f499b-9bb2-41a8-845c-6800147e6967",
        "_uuid": "2c7cdaae1ed8a858b92b815f75960cf303fddfda"
      },
      "cell_type": "markdown",
      "source": "Conditions to check if <span style=\"color:red\"> **data is tidy**</span>\n- Is every column a variable? \n- Is every row an observation?\n- Is every table a single observational unit?"
    },
    {
      "metadata": {
        "_cell_guid": "56eaec1a-e75d-4f64-9944-bd801fa236e5",
        "_execution_state": "idle",
        "_uuid": "f68882a130f23769f71dd6e9e4fb8f81a1c2e647",
        "trusted": false,
        "collapsed": true
      },
      "cell_type": "code",
      "source": "#by calling the shape attribute of the train dataset we can observe that there are 891 observations and 11 columns\n#in the data set\ntrain.shape",
      "execution_count": null,
      "outputs": []
    },
    {
      "metadata": {
        "_cell_guid": "a8e2b80f-f268-45e5-bbe6-8bd00fb5c841",
        "_execution_state": "idle",
        "_uuid": "f81d5c560234ce1928bd86fd52ed93882327a0e6",
        "trusted": false,
        "collapsed": true
      },
      "cell_type": "code",
      "source": "# Check out the data summary\n# Age, Cabin and Embarked has missing data\ntrain.head()",
      "execution_count": null,
      "outputs": []
    },
    {
      "metadata": {
        "_cell_guid": "688d7d26-0b38-4747-b300-d397e2aaddae",
        "scrolled": false,
        "_execution_state": "idle",
        "_uuid": "638f6c34d02ea59c78ab80f3946b2fff9a878881",
        "trusted": false,
        "collapsed": true
      },
      "cell_type": "code",
      "source": "# identify datatypes of the 11 columns, add the stats to the datadict\ndatadict = pd.DataFrame(train.dtypes)\ndatadict",
      "execution_count": null,
      "outputs": []
    },
    {
      "metadata": {
        "_cell_guid": "80f6b408-e67c-4b6b-8da9-5861ecab53e7",
        "_execution_state": "idle",
        "_uuid": "7e28a8ed8d0e068377f2c38df05b4d9c53e8c5b0",
        "trusted": false,
        "collapsed": true
      },
      "cell_type": "code",
      "source": "# identify missing values of the 11 columns,add the stats to the datadict\ndatadict['MissingVal'] = train.isnull().sum()\ndatadict",
      "execution_count": null,
      "outputs": []
    },
    {
      "metadata": {
        "_cell_guid": "7e863515-93c5-4879-ae5d-189094f0c5f2",
        "scrolled": false,
        "_execution_state": "idle",
        "_uuid": "894ee37bcbeae9d390d896af3d5907eef0bf1f05",
        "trusted": false,
        "collapsed": true
      },
      "cell_type": "code",
      "source": "# Identify number of unique values, For object nunique will the number of levels\n# Add the stats the data dict\ndatadict['NUnique']=train.nunique()\ndatadict",
      "execution_count": null,
      "outputs": []
    },
    {
      "metadata": {
        "_cell_guid": "b7a98533-9721-4aea-a4bb-4ee480fc9a8d",
        "scrolled": false,
        "_execution_state": "idle",
        "_uuid": "4cfbc7a1ceb97f663da8b91114fa20b225f4272b",
        "trusted": false,
        "collapsed": true
      },
      "cell_type": "code",
      "source": "# Identify the count for each variable, add the stats to datadict\ndatadict['Count']=train.count()\ndatadict",
      "execution_count": null,
      "outputs": []
    },
    {
      "metadata": {
        "_cell_guid": "1f1429d3-5f0c-4220-9cbd-c1f90ec2d7a7",
        "_execution_state": "idle",
        "_uuid": "df96dba1a6120455f193ea0675bb10e00143c9d3",
        "trusted": false,
        "collapsed": true
      },
      "cell_type": "code",
      "source": "# rename the 0 column\ndatadict = datadict.rename(columns={0:'DataType'})\ndatadict",
      "execution_count": null,
      "outputs": []
    },
    {
      "metadata": {
        "_cell_guid": "60ac9f3c-4550-41b4-809c-da927c212707",
        "_uuid": "efbad4d9491e0985a3ce9e73501e8a238317fe24"
      },
      "cell_type": "markdown",
      "source": "## 3.   Run discriptive statistics of object and numerical datatypes,  and finally transform datatypes accoringly"
    },
    {
      "metadata": {
        "_cell_guid": "92047c08-918f-4242-baff-eef7b36ef9e7",
        "_execution_state": "idle",
        "_uuid": "9c500b1ecb231be159f6db3e9b68714fb129bd17",
        "trusted": false,
        "collapsed": true
      },
      "cell_type": "code",
      "source": "# get discripte statistcs on \"object\" datatypes\ntrain.describe(include=['object'])",
      "execution_count": null,
      "outputs": []
    },
    {
      "metadata": {
        "_cell_guid": "d11c0a1e-c1e0-45db-a355-8e2a0afbf87d",
        "_execution_state": "idle",
        "_uuid": "3aec9e9cd74f21f1d026740230eeb8adfcabdd3e",
        "trusted": false,
        "collapsed": true
      },
      "cell_type": "code",
      "source": "# get discriptive statistcs on \"number\" datatypes\ntrain.describe(include=['number'])",
      "execution_count": null,
      "outputs": []
    },
    {
      "metadata": {
        "_cell_guid": "7a54b45f-1940-4a06-bb00-c69dc1617f7f",
        "_uuid": "a31cf14f2b2ba2f59950ea06893e01076ecbf1ff"
      },
      "cell_type": "markdown",
      "source": "## 4. Carryout univariate and multivariate analysis using graphical and non graphical(some numbers represting the data)"
    },
    {
      "metadata": {
        "_cell_guid": "74c322b0-ffb5-4118-bad5-8302d95346c3",
        "_execution_state": "idle",
        "_uuid": "c898a312ea961c12ba775f280780b87387e3a6dd",
        "trusted": false,
        "collapsed": true
      },
      "cell_type": "code",
      "source": "train.Survived.value_counts(normalize=True)",
      "execution_count": null,
      "outputs": []
    },
    {
      "metadata": {
        "_cell_guid": "bb1bf231-d50a-4beb-91a0-2859c48d07c0",
        "_uuid": "1688eb3b22f70749692d3ad5027fcd6d4ee72158"
      },
      "cell_type": "markdown",
      "source": "only 38% of the passengers were survived, where as a majority 61% the passenger did not survive the disaster"
    },
    {
      "metadata": {
        "_cell_guid": "dcb06ce1-a382-4b75-b28b-33c404ef60c8",
        "_uuid": "122c3f5b666562cd00be13096431ce2e0c03fb76"
      },
      "cell_type": "markdown",
      "source": "#### Univariate Analysis"
    },
    {
      "metadata": {
        "_cell_guid": "6a6c0865-e415-4782-97db-e3c3968c85e0",
        "scrolled": true,
        "_execution_state": "idle",
        "_uuid": "0a12039a3aadb8776cc44d8dccbde2c86a85af9f",
        "trusted": false,
        "collapsed": true
      },
      "cell_type": "code",
      "source": "fig, axes = plt.subplots(2, 4, figsize=(16, 10))\nsns.countplot('Survived',data=train,ax=axes[0,0])\nsns.countplot('Pclass',data=train,ax=axes[0,1])\nsns.countplot('Sex',data=train,ax=axes[0,2])\nsns.countplot('SibSp',data=train,ax=axes[0,3])\nsns.countplot('Parch',data=train,ax=axes[1,0])\nsns.countplot('Embarked',data=train,ax=axes[1,1])\nsns.distplot(train['Fare'], kde=True,ax=axes[1,2])\nsns.distplot(train['Age'].dropna(),kde=True,ax=axes[1,3])",
      "execution_count": null,
      "outputs": []
    },
    {
      "metadata": {
        "_cell_guid": "3d5f9d31-fcb9-49bc-9f4d-c508800a8d65",
        "_uuid": "ec99d3d40612b8b84c6a4218da3eb0b21f1d665a"
      },
      "cell_type": "markdown",
      "source": "#### Bivariate EDA"
    },
    {
      "metadata": {
        "_cell_guid": "78fc1f8c-e7ef-4570-a8e2-fbad30a568a6",
        "_uuid": "82774e86a30263bdabbf0088d90381b6a2b6678e"
      },
      "cell_type": "markdown",
      "source": " - We can clearly see that male survial rates is around 20% where as female survial rate is about 75% which suggests that gender has a strong relationship with the survival rates.\n \n - There is also a clear relationship between Pclass and the survival by referring to first plot below. Passengers on Pclass1 had a better survial rate of approx 60% whereas passengers on pclass3 had the worst survial rate of approx 22%\n \n - There is also a marginal relationship between the fare and survial rate. \n \n I have quantified the above relationships further in the last statsical modelling section\n "
    },
    {
      "metadata": {
        "_cell_guid": "4d7e1470-1797-4057-a8f7-cee1a439e2e6",
        "scrolled": true,
        "_execution_state": "idle",
        "_uuid": "7912f4e0b1e387110fda3dc9fecebae80d7b81bb",
        "trusted": false,
        "collapsed": true
      },
      "cell_type": "code",
      "source": "figbi, axesbi = plt.subplots(2, 4, figsize=(16, 10))\ntrain.groupby('Pclass')['Survived'].mean().plot(kind='barh',ax=axesbi[0,0],xlim=[0,1])\ntrain.groupby('SibSp')['Survived'].mean().plot(kind='barh',ax=axesbi[0,1],xlim=[0,1])\ntrain.groupby('Parch')['Survived'].mean().plot(kind='barh',ax=axesbi[0,2],xlim=[0,1])\ntrain.groupby('Sex')['Survived'].mean().plot(kind='barh',ax=axesbi[0,3],xlim=[0,1])\ntrain.groupby('Embarked')['Survived'].mean().plot(kind='barh',ax=axesbi[1,0],xlim=[0,1])\nsns.boxplot(x=\"Survived\", y=\"Age\", data=train,ax=axesbi[1,1])\nsns.boxplot(x=\"Survived\", y=\"Fare\", data=train,ax=axesbi[1,2])",
      "execution_count": null,
      "outputs": []
    },
    {
      "metadata": {
        "_cell_guid": "78b01016-ebbd-403c-9a30-dcfeb6597a37",
        "_uuid": "45d4530d03703f06f27cdc6db98c5bcd5bfff4da"
      },
      "cell_type": "markdown",
      "source": "#### Joint Plots(continous vs continous)"
    },
    {
      "metadata": {
        "_cell_guid": "c412771e-5df9-472f-9444-23b195cdb134",
        "scrolled": true,
        "_execution_state": "idle",
        "_uuid": "27376cafd80b9db1b1ba47b9e4cc964428c969d2",
        "trusted": false,
        "collapsed": true
      },
      "cell_type": "code",
      "source": "sns.jointplot(x=\"Age\", y=\"Fare\", data=train);",
      "execution_count": null,
      "outputs": []
    },
    {
      "metadata": {
        "_cell_guid": "fecfcd20-c61a-4b53-8f1c-c6ff53abe23f",
        "_uuid": "7bb305574dbb5c60f65c40c2905fd441507f6bed"
      },
      "cell_type": "markdown",
      "source": "#### Multivariate EDA\n#### Construct a Coorelation matrix of the int64 and float64 feature types"
    },
    {
      "metadata": {
        "_cell_guid": "eaaf3347-2f89-4d8e-a415-bf8f1202445a",
        "_uuid": "d553ff113e14a5cb3744396f5e7d6198751feccd"
      },
      "cell_type": "markdown",
      "source": "- There is a positve coorelation between Fare and Survived and a negative coorelation between Pclass and Surived\n\n- There is a negative coorelation between Fare and Pclass, Age and Plcass"
    },
    {
      "metadata": {
        "_cell_guid": "bde94a5f-c82b-45fa-9ba3-935507d92bcb",
        "_execution_state": "idle",
        "_uuid": "72f6c8a8c5bca0f80e21e91b756cd0929e11d0a2",
        "trusted": false,
        "collapsed": true
      },
      "cell_type": "code",
      "source": "import seaborn as sns\n\nf, ax = plt.subplots(figsize=(10, 8))\ncorr = train.corr()\nsns.heatmap(corr,\n            mask=np.zeros_like(corr, dtype=np.bool), \n            cmap=sns.diverging_palette(220, 10, as_cmap=True),\n            square=True, ax=ax)",
      "execution_count": null,
      "outputs": []
    },
    {
      "metadata": {
        "_cell_guid": "c0969296-2a3c-474d-86c0-c4f3ee9a01bb",
        "_uuid": "6d0bb69fb20ccbd6d92333f933280bd0b869f268"
      },
      "cell_type": "markdown",
      "source": "## 6. Feature Engineering Data- Extract title from name, Extract new features from the other features"
    },
    {
      "metadata": {
        "_cell_guid": "3eeec6a1-bd22-40f8-ad28-254fc3292f88",
        "_uuid": "cbb42f1d74fed21a00c1223a3320d939f983dbf9"
      },
      "cell_type": "markdown",
      "source": "#### *New Features*"
    },
    {
      "metadata": {
        "_cell_guid": "91d9d80e-d400-4c8a-9d53-a63ae1ea2fd9",
        "_execution_state": "idle",
        "collapsed": true,
        "_uuid": "f437a0f910cf5cdbec54f6f7c086e04c5a48381b",
        "trusted": false
      },
      "cell_type": "code",
      "source": "train['Name_len']=train.Name.str.len()",
      "execution_count": null,
      "outputs": []
    },
    {
      "metadata": {
        "_cell_guid": "9d6ce86d-8a38-40cf-8121-2072ba60caca",
        "_execution_state": "idle",
        "collapsed": true,
        "_uuid": "5ac7796831f8a32a75c1244670e9af38a19154cb",
        "trusted": false
      },
      "cell_type": "code",
      "source": "train['Ticket_First']=train.Ticket.str[0]",
      "execution_count": null,
      "outputs": []
    },
    {
      "metadata": {
        "_cell_guid": "f06750b5-7171-445c-954e-b29ce6ee1a2b",
        "_execution_state": "idle",
        "collapsed": true,
        "_uuid": "093e5b407904a74ff57dac4bdaee979eb186b3fa",
        "trusted": false
      },
      "cell_type": "code",
      "source": "train['FamilyCount']=train.SibSp+train.Parch",
      "execution_count": null,
      "outputs": []
    },
    {
      "metadata": {
        "_cell_guid": "48dc725b-3e37-48ec-ba25-d5768995e826",
        "_execution_state": "idle",
        "collapsed": true,
        "_uuid": "a0104a4714927751787f7cfb1a697ec007c42883",
        "trusted": false
      },
      "cell_type": "code",
      "source": "train['Cabin_First']=train.Cabin.str[0]",
      "execution_count": null,
      "outputs": []
    },
    {
      "metadata": {
        "_cell_guid": "e3546041-42a3-44fc-aedf-37f0b6627ad2",
        "_execution_state": "idle",
        "collapsed": true,
        "_uuid": "3bf4d443b591da88d72c28ed8cd00ca42718cdd1",
        "trusted": false
      },
      "cell_type": "code",
      "source": "# Regular expression to get the title of the Name\ntrain['title'] = train.Name.str.extract('\\, ([A-Z][^ ]*\\.)',expand=False)",
      "execution_count": null,
      "outputs": []
    },
    {
      "metadata": {
        "_cell_guid": "2fcd24ff-7631-4e87-b079-4f2542cd3b0d",
        "_execution_state": "idle",
        "_uuid": "5ad06b7eba0bf87abad05268262521d60215ada3",
        "trusted": false,
        "collapsed": true
      },
      "cell_type": "code",
      "source": "train.title.value_counts().reset_index()",
      "execution_count": null,
      "outputs": []
    },
    {
      "metadata": {
        "_cell_guid": "683f23aa-57b9-48d8-824b-5f758e7797f2",
        "_uuid": "320b48dcd6a28081b20978cb703fc0aba645910b"
      },
      "cell_type": "markdown",
      "source": "## 7. Preprocessing and Prepare data for statistical modeling"
    },
    {
      "metadata": {
        "_cell_guid": "36183ce0-9f10-4d4b-90b0-8d7f4a41adb9",
        "_uuid": "278b5a8360f603dba1068d29552ffbeba164874e"
      },
      "cell_type": "markdown",
      "source": "** a. Imput Missing or Zero values to the <span style=\"color:blue\"> Fare variable </span> **"
    },
    {
      "metadata": {
        "_cell_guid": "50160461-96c9-4cc7-944a-39e70f499f0d",
        "_execution_state": "idle",
        "_uuid": "1f07a2991e56c7a3c97929295ce5ad913a8b56a5",
        "trusted": false,
        "collapsed": true
      },
      "cell_type": "code",
      "source": "# we see that there are 15 Zero values and its reasonbale \n# to flag them as missing values since every ticket \n# should have a value greater than 0\nprint((train.Fare == 0).sum())",
      "execution_count": null,
      "outputs": []
    },
    {
      "metadata": {
        "_cell_guid": "aa701c6a-1393-41e5-9ed9-1fba4d5a71bc",
        "_execution_state": "idle",
        "collapsed": true,
        "_uuid": "e41ff76293cba1ad7fe4359b3fc887acf5b8b9a4",
        "trusted": false
      },
      "cell_type": "code",
      "source": "# mark zero values as missing or NaN\ntrain.Fare = train.Fare.replace(0, np.NaN)",
      "execution_count": null,
      "outputs": []
    },
    {
      "metadata": {
        "_cell_guid": "075054e4-8043-4f2e-af01-107681b01e78",
        "scrolled": false,
        "_execution_state": "idle",
        "_uuid": "15e748c31bfadba7ba08f34261c0a8e931ce1e0d",
        "trusted": false,
        "collapsed": true
      },
      "cell_type": "code",
      "source": "# validate to see if there are no more zero values\nprint((train.Fare == 0).sum())",
      "execution_count": null,
      "outputs": []
    },
    {
      "metadata": {
        "_cell_guid": "60252326-a040-48bb-8ffd-8c1bdb4d7385",
        "_execution_state": "idle",
        "_uuid": "f13df37c050321d9350e27fb55cf87fbf6f64282",
        "trusted": false,
        "collapsed": true
      },
      "cell_type": "code",
      "source": "# keep the index\ntrain[train.Fare.isnull()].index",
      "execution_count": null,
      "outputs": []
    },
    {
      "metadata": {
        "_cell_guid": "6108e4b8-2d03-405d-a7ca-226b47a1ed14",
        "_execution_state": "idle",
        "_uuid": "376274673f762292a53a63af7a79ce2cabe1115f",
        "trusted": false,
        "collapsed": true
      },
      "cell_type": "code",
      "source": "train.Fare.mean()",
      "execution_count": null,
      "outputs": []
    },
    {
      "metadata": {
        "_cell_guid": "c4aef2ec-d1a6-439d-8917-0b77072a6627",
        "_uuid": "e6634eadec7e18939c4385b744aa84d63049aeed"
      },
      "cell_type": "markdown",
      "source": "#### <span style=\"color:red\">Having missing values in a dataset can cause errors with some machine learning algorithms and either the rows that has missing values should be removed or imputed </span>\n\nImputing refers to using a model to replace missing values.\n\nThere are many options we could consider when replacing a missing value, for example:\n\n>- constant value that has meaning within the domain, such as 0, distinct from all other values.\n>- value from another randomly selected record.\n>- mean, median or mode value for the column.\n>- value estimated by another predictive model."
    },
    {
      "metadata": {
        "_cell_guid": "3a4e23cd-bc56-49bf-b62b-bf12ce561c85",
        "_execution_state": "idle",
        "collapsed": true,
        "_uuid": "326496813e0b83aad0549a819d2b0641a08cb61d",
        "trusted": false
      },
      "cell_type": "code",
      "source": "# impute the missing Fare values with the mean Fare value\ntrain.Fare.fillna(train.Fare.mean(),inplace=True)",
      "execution_count": null,
      "outputs": []
    },
    {
      "metadata": {
        "_cell_guid": "4a5b18e7-69fe-4572-b2b1-88f0451e81ef",
        "_execution_state": "idle",
        "_uuid": "5e6688b524d3657a1caf25423e6eab11854806d6",
        "trusted": false,
        "collapsed": true
      },
      "cell_type": "code",
      "source": "# validate if any null values are present after the imputation\ntrain[train.Fare.isnull()]",
      "execution_count": null,
      "outputs": []
    },
    {
      "metadata": {
        "_cell_guid": "8232e0f2-4ee6-47e0-8b9a-6cf40d37b9fe",
        "_uuid": "4f474b81702b042ffd3d40f7a8f33361518cfc40"
      },
      "cell_type": "markdown",
      "source": "\n\n** b. Imput Missing or Zero values to the <span style=\"color:blue\"> Age variable </span> **"
    },
    {
      "metadata": {
        "_cell_guid": "4a6b9384-ff5a-4cfc-a16d-6fd93c85d758",
        "_execution_state": "idle",
        "_uuid": "7b0f694b570eef47e9b727d3c97fff4d6047df49",
        "trusted": false,
        "collapsed": true
      },
      "cell_type": "code",
      "source": "# we see that there are 0 Zero values\nprint((train.Age == 0).sum())",
      "execution_count": null,
      "outputs": []
    },
    {
      "metadata": {
        "_cell_guid": "a06c8354-bb38-4615-9a38-cd6129189eda",
        "_execution_state": "idle",
        "collapsed": true,
        "_uuid": "4c9cbdd421ffb69ae941404f7f08d19a9beac3b1",
        "trusted": false
      },
      "cell_type": "code",
      "source": "# impute the missing Age values with the mean Fare value\ntrain.Age.fillna(train.Age.mean(),inplace=True)",
      "execution_count": null,
      "outputs": []
    },
    {
      "metadata": {
        "_cell_guid": "0f9bca58-b23a-4eba-8e70-9b961d9df499",
        "_execution_state": "idle",
        "_uuid": "d0a60b41f216968b2c847dec53956ff404c6b54c",
        "trusted": false,
        "collapsed": true
      },
      "cell_type": "code",
      "source": "# validate if any null values are present after the imputation\ntrain[train.Age.isnull()]",
      "execution_count": null,
      "outputs": []
    },
    {
      "metadata": {
        "_cell_guid": "789b46b4-8b99-40d9-bed0-3c048c7d81f6",
        "_uuid": "a10922bfb7c081f28ed6114784d378495f94ba0b"
      },
      "cell_type": "markdown",
      "source": "** c. Imput Missing or Zero values to the <span style=\"color:blue\"> Cabin variable </span> **"
    },
    {
      "metadata": {
        "_cell_guid": "01179e37-3ca2-40e2-b2a9-eedf88d2a56c",
        "_execution_state": "idle",
        "_uuid": "5136846e4deda54f473b06f289a0461fe6143fe6",
        "trusted": false,
        "collapsed": true
      },
      "cell_type": "code",
      "source": "# We see that a majority 77% of the Cabin variable has missing values.\n# Hence will drop the column from training a machine learnign algorithem\ntrain.Cabin.isnull().mean()",
      "execution_count": null,
      "outputs": []
    },
    {
      "metadata": {
        "_cell_guid": "c3745280-3f92-421b-9c86-32289e217f9e",
        "_execution_state": "idle",
        "_uuid": "0b9b2f49f4bd20cd6d1757e33801ede1d1304010",
        "trusted": false,
        "collapsed": true
      },
      "cell_type": "code",
      "source": "train.info()",
      "execution_count": null,
      "outputs": []
    },
    {
      "metadata": {
        "_cell_guid": "0b1d635a-71f6-4e22-939b-0181428a4aee",
        "_uuid": "39aca3483844ce08c80ae809d9f7e9801524d789"
      },
      "cell_type": "markdown",
      "source": "## 8. Statistical Modelling"
    },
    {
      "metadata": {
        "_cell_guid": "d7ad1e2e-2332-4d7d-bdec-afd6607d5d62",
        "_execution_state": "idle",
        "_uuid": "83393ec2d55210c6e7d5861a3e407d2e501ec367",
        "trusted": false,
        "collapsed": true
      },
      "cell_type": "code",
      "source": "train.columns",
      "execution_count": null,
      "outputs": []
    },
    {
      "metadata": {
        "_cell_guid": "ac60891a-bb59-494a-a477-95a0f35765ea",
        "_execution_state": "idle",
        "collapsed": true,
        "_uuid": "36d6b1a70c0d9d599985649897a40b1b895c2a2f",
        "trusted": false
      },
      "cell_type": "code",
      "source": "trainML = train[['Survived', 'Pclass', 'Name', 'Sex', 'Age', 'SibSp', 'Parch', 'Ticket',\n       'Fare', 'Embarked', 'Name_len', 'Ticket_First', 'FamilyCount',\n       'title']]",
      "execution_count": null,
      "outputs": []
    },
    {
      "metadata": {
        "_cell_guid": "d371d2d4-d870-4c07-841a-5d3c767213bb",
        "_execution_state": "idle",
        "collapsed": true,
        "_uuid": "8fe7ab379dc6139cc403508ef5d42952dd93704c",
        "trusted": false
      },
      "cell_type": "code",
      "source": "# drop rows of missing values\ntrainML = trainML.dropna()",
      "execution_count": null,
      "outputs": []
    },
    {
      "metadata": {
        "_cell_guid": "1043de47-7682-43f5-91a7-8709a7a35c3f",
        "scrolled": true,
        "_execution_state": "idle",
        "_uuid": "c1cd1e7ef7f241096b3288b78b53c7f01ce62335",
        "trusted": false,
        "collapsed": true
      },
      "cell_type": "code",
      "source": "# check the datafram has any missing values\ntrainML.isnull().sum()",
      "execution_count": null,
      "outputs": []
    },
    {
      "metadata": {
        "_cell_guid": "203b03c1-0993-41ae-b431-fc00b67a7220",
        "_uuid": "ea411fffea6c74800af726c281fb8684d5e99557"
      },
      "cell_type": "markdown",
      "source": "### A single predictor model with logistic regression\nwe use logistic regression as the response variable is a binary classification"
    },
    {
      "metadata": {
        "_cell_guid": "975073a9-6618-4ea7-bebc-0ff323ed7f72",
        "_uuid": "0e2b8c02cc015ae22e26b81d1d8850dfd4033332"
      },
      "cell_type": "markdown",
      "source": "** <span style=\"color:blue\"> Regression on survival on Age </span> **"
    },
    {
      "metadata": {
        "_cell_guid": "a18ef825-3288-42d2-862b-3e0e49fd2861",
        "collapsed": true,
        "scrolled": true,
        "_uuid": "4c137bc0eeef447370e13d178e6e085731586985",
        "_execution_state": "idle",
        "trusted": false
      },
      "cell_type": "code",
      "source": "# Import Estimator AND Instantiate estimator class to create an estimator object\nfrom sklearn.linear_model import LogisticRegression\nlr = LogisticRegression()\n",
      "execution_count": null,
      "outputs": []
    },
    {
      "metadata": {
        "_cell_guid": "e423ed60-025d-4369-ae22-2ec45940ca9a",
        "_execution_state": "idle",
        "_uuid": "88fabf4eb8669e55827ce331184575007dc5c917",
        "trusted": false,
        "collapsed": true
      },
      "cell_type": "code",
      "source": "X_Age = trainML[['Age']].values\ny = trainML['Survived'].values\n# Use the fit method to train\nlr.fit(X_Age,y)\n# Make a prediction\ny_predict = lr.predict(X_Age)\ny_predict[:10]\n(y == y_predict).mean()",
      "execution_count": null,
      "outputs": []
    },
    {
      "metadata": {
        "_cell_guid": "635e2f30-b0b1-4e57-a59a-a3276f05a791",
        "_uuid": "5ab887af385ca94db66b10131e37084c6e0e62fb"
      },
      "cell_type": "markdown",
      "source": "The prediction accuracy is marginally better than the base line accuracy of 61.5% which we got earlier"
    },
    {
      "metadata": {
        "_cell_guid": "a67db443-c5fa-4efa-b52a-1e5d26a0a1bc",
        "_uuid": "f2addbe99ebad289ccb010acaa4887450731d8d7"
      },
      "cell_type": "markdown",
      "source": "** <span style=\"color:blue\"> Regression on survival on Fare </span> **"
    },
    {
      "metadata": {
        "_cell_guid": "9a1d90a4-98d7-4d59-8166-226703976732",
        "scrolled": true,
        "_execution_state": "idle",
        "_uuid": "37ca14e5b6486129b4e66fdc2d8c1ca5891cb213",
        "trusted": false,
        "collapsed": true
      },
      "cell_type": "code",
      "source": "X_Fare = trainML[['Fare']].values\ny = trainML['Survived'].values\n# Use the fit method to train\nlr.fit(X_Fare,y)\n# Make a prediction\ny_predict = lr.predict(X_Fare)\ny_predict[:10]\n(y == y_predict).mean()",
      "execution_count": null,
      "outputs": []
    },
    {
      "metadata": {
        "_cell_guid": "7611fabf-e8ff-499c-91da-57195d1bc504",
        "_uuid": "143d3302b587cbd0f66436c54a6b8ef541405ba1"
      },
      "cell_type": "markdown",
      "source": "The prediction accuracy got a bit better than the Age variable and much better than 61.5% base accuracy"
    },
    {
      "metadata": {
        "_cell_guid": "076830c3-3823-4c5b-8b79-77724af00e2f",
        "_uuid": "bce845f394cf169070b463e263745f5f32cd59fa"
      },
      "cell_type": "markdown",
      "source": "** <span style=\"color:blue\"> Regression on survive on Sex(using a Categorical Variable) </span>  **"
    },
    {
      "metadata": {
        "_cell_guid": "d9a95868-f661-4096-972c-a0d86ad76b14",
        "_execution_state": "idle",
        "_uuid": "62c7350105e84ea849650ca806cb478e9750fbf9",
        "trusted": false,
        "collapsed": true
      },
      "cell_type": "code",
      "source": "X_sex = pd.get_dummies(trainML['Sex']).values\ny = trainML['Survived'].values\n# Use the fit method to train\nlr.fit(X_sex, y)\n# Make a prediction\ny_predict = lr.predict(X_sex)\ny_predict[:10]\n(y == y_predict).mean()",
      "execution_count": null,
      "outputs": []
    },
    {
      "metadata": {
        "_cell_guid": "2d445186-45e0-4890-94c5-4403f0afed54",
        "_uuid": "ea8f280c93b81490cced4a3d942f2376f884bc33"
      },
      "cell_type": "markdown",
      "source": "The gender of passenger is a strong predictor and purely predciting based on gender, the model accuracy increased to 78%"
    },
    {
      "metadata": {
        "_cell_guid": "48e206ad-0737-49f2-b563-fee9d6d71e8e",
        "_uuid": "c3cb167037ae5515ecfe3df9dc5aef1443561969"
      },
      "cell_type": "markdown",
      "source": "** <span style=\"color:blue\"> Regression on survive on PClass(using a Categorical Variable) </span>  **"
    },
    {
      "metadata": {
        "_cell_guid": "63b20bed-5a4c-4aa0-9e38-ff3bdfaa3534",
        "_execution_state": "idle",
        "_uuid": "3a100c12f9db48077b15006d138b64b9b1536ffd",
        "trusted": false,
        "collapsed": true
      },
      "cell_type": "code",
      "source": "X_pclass = pd.get_dummies(trainML['Pclass']).values\ny = trainML['Survived'].values\nlr = LogisticRegression()\nlr.fit(X_pclass, y)\n# Make a prediction\ny_predict = lr.predict(X_pclass)\ny_predict[:10]\n(y == y_predict).mean()",
      "execution_count": null,
      "outputs": []
    },
    {
      "metadata": {
        "_cell_guid": "265641b7-f752-45cb-a1a3-81de0e11bc5d",
        "_uuid": "b15cada3a75152470c46183ef7bb6e78d19cf2f9"
      },
      "cell_type": "markdown",
      "source": "Gender of the passenger seems a strong predictor compared to the PClass of the passenger on Survival"
    },
    {
      "metadata": {
        "_cell_guid": "3bde51bc-0347-4e91-b2ac-338a4bfcee28",
        "_uuid": "cd2da03b4268e1fa0dc2e04f7ef23cf2fb82e680"
      },
      "cell_type": "markdown",
      "source": "** <span style=\"color:blue\"> Predicting Survival based on Random forest model </span>**"
    },
    {
      "metadata": {
        "_cell_guid": "07349aab-9c03-436e-9a17-94943edd1c9a",
        "_execution_state": "idle",
        "_uuid": "0d3f665848222af5df178f5e9ec01b5ecabbdb79",
        "trusted": false,
        "collapsed": true
      },
      "cell_type": "code",
      "source": "from sklearn.ensemble import RandomForestClassifier\nX=trainML[['Age', 'SibSp', 'Parch',\n       'Fare', 'Name_len', 'FamilyCount']].values # Taking all the numerical values\ny = trainML['Survived'].values\nRF = RandomForestClassifier()\nRF.fit(X, y)\n# Make a prediction\ny_predict = RF.predict(X)\ny_predict[:10]\n(y == y_predict).mean()",
      "execution_count": null,
      "outputs": []
    },
    {
      "metadata": {
        "_cell_guid": "4774862d-06f1-4944-a11e-ff1b3ce2191f",
        "collapsed": true,
        "_uuid": "c960680cc7bf921dade31ebcaf08983100518af9"
      },
      "cell_type": "markdown",
      "source": "Random forest did a good job in predicting the survival with a 97% accuracy"
    }
  ],
  "metadata": {
    "kernelspec": {
      "display_name": "Python 3",
      "language": "python",
      "name": "python3"
    },
    "language_info": {
      "name": "python",
      "version": "3.6.4",
      "mimetype": "text/x-python",
      "codemirror_mode": {
        "name": "ipython",
        "version": 3
      },
      "pygments_lexer": "ipython3",
      "nbconvert_exporter": "python",
      "file_extension": ".py"
    }
  },
  "nbformat": 4,
  "nbformat_minor": 1
}